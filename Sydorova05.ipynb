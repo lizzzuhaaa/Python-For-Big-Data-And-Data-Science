{
  "nbformat": 4,
  "nbformat_minor": 0,
  "metadata": {
    "colab": {
      "provenance": []
    },
    "kernelspec": {
      "name": "python3",
      "display_name": "Python 3"
    },
    "language_info": {
      "name": "python"
    }
  },
  "cells": [
    {
      "cell_type": "markdown",
      "source": [
        "# I. OOP"
      ],
      "metadata": {
        "id": "5qV_sehzFCTp"
      }
    },
    {
      "cell_type": "markdown",
      "source": [
        "1. (6б). Створіть клас Animal, додайте три атрибути, один з яких має значення за замовчуванням та два методи на свій розсуд."
      ],
      "metadata": {
        "id": "tx_U_hOALyfg"
      }
    },
    {
      "cell_type": "code",
      "source": [
        "class Animal:\n",
        "  def __init__(self, age, weight, name=\"Unknown animal\"):\n",
        "    self.name = name\n",
        "    self.age = age\n",
        "    self.weight = weight\n",
        "\n",
        "  def grow_up(self):\n",
        "    self.age += 1\n",
        "    print(f\"Oh, {self.name} is {self.age} y.o. now!\")\n",
        "\n",
        "  def feed(self, portion=0.2):\n",
        "    self.weight += portion\n",
        "    print(f\"Oh, {self.name}'s weight is {self.weight} now\")\n",
        "\n",
        "\n"
      ],
      "metadata": {
        "id": "-Vf895KaL88N"
      },
      "execution_count": 4,
      "outputs": []
    },
    {
      "cell_type": "markdown",
      "source": [
        "2. (2б). Створіть два обʼєкти цього класу, де один з обʼєктів створюється із дефолтним значенням атрибуту. На одному обʼєкті отримайте значення його атрибуту, а на іншому викличте один з його методів."
      ],
      "metadata": {
        "id": "X_UlOMB0L93w"
      }
    },
    {
      "cell_type": "code",
      "source": [
        "cat = Animal(3, 5, \"Maison\")\n",
        "cat.feed(0.1)\n",
        "\n",
        "kitten = Animal(0, 0.2)\n",
        "print(kitten.name)"
      ],
      "metadata": {
        "id": "7gBu0ESOMCpG",
        "colab": {
          "base_uri": "https://localhost:8080/"
        },
        "outputId": "f0443766-1b0d-47c8-8a6e-654d579cda9d"
      },
      "execution_count": 5,
      "outputs": [
        {
          "output_type": "stream",
          "name": "stdout",
          "text": [
            "Oh, Maison's weight is 5.1 now\n",
            "Unknown animal\n"
          ]
        }
      ]
    },
    {
      "cell_type": "markdown",
      "source": [
        "3. (5б). Створіть клас, де атрибути мають різні рівні доступу. Спробуйте отримати їхні значення та опишіть результати."
      ],
      "metadata": {
        "id": "HoqSCZt1MHn5"
      }
    },
    {
      "cell_type": "code",
      "source": [
        "class Protection:\n",
        "  def __init__(self):\n",
        "    self.public = \"This is my public attribute\"\n",
        "    self._protected = \"This is my protected attribute\"\n",
        "    self.__private = \"This is my private attribute\"\n",
        "\n",
        "test_obj = Protection()\n",
        "print(f\"Test getting my public attribute: {test_obj.public}\")\n",
        "print(f\"Test getting my protected attribute: {test_obj._protected}\")\n",
        "try:\n",
        "  print(f\"Test getting my private attribute: {test_obj.__private}\")\n",
        "except:\n",
        "  print(f\"You can`t get my private attribute\")\n",
        ""
      ],
      "metadata": {
        "id": "r9b3vJxBMSPV",
        "colab": {
          "base_uri": "https://localhost:8080/"
        },
        "outputId": "453d8a39-77e2-4862-f37a-434c5b21120b"
      },
      "execution_count": 6,
      "outputs": [
        {
          "output_type": "stream",
          "name": "stdout",
          "text": [
            "Test getting my public attribute: This is my public attribute\n",
            "Test getting my protected attribute: This is my protected attribute\n",
            "You can`t get my private attribute\n"
          ]
        }
      ]
    },
    {
      "cell_type": "markdown",
      "source": [
        "4. (7б). Як ви розумієте термін self? Для чого використовується метод __init __?"
      ],
      "metadata": {
        "id": "5op2m2vgMSkZ"
      }
    },
    {
      "cell_type": "markdown",
      "source": [
        "self - параметр для доступу до атрибутів чи методів конкретного екзмепляру класу, при використанні у методах класу свідчить про підвʼязку до поточного екзмепляру\n",
        "\n",
        "метод __init _ - ініціалізатор нового обʼєкту представника певного класу для присвоєння значень атрибутів, майбутнього використання методів класу та потрібних початкових налаштувань\n",
        "\n",
        "\n"
      ],
      "metadata": {
        "id": "DyiPqNRvMasx"
      }
    },
    {
      "cell_type": "markdown",
      "source": [
        "5. (9б). Створіть клас Фігура без атрибутів, з методом get_area для отримання площі фігури, що повертає 0 та __add __, який приймає self та other в якості аргументів, а повертає суму площин фігур self та other."
      ],
      "metadata": {
        "id": "-6X8EGfjMd2y"
      }
    },
    {
      "cell_type": "code",
      "source": [
        "class Figure:\n",
        "  def __init__(self) -> None:\n",
        "    pass\n",
        "\n",
        "  def get_area(self):\n",
        "    return 0\n",
        "\n",
        "  def __add__(self, other):\n",
        "    if (isinstance(other, Figure)):\n",
        "      return self.get_area() + other.get_area()\n",
        "    else:\n",
        "      print(\"The second object has unexpected type\")\n",
        ""
      ],
      "metadata": {
        "id": "4rvO_wYUMaEr"
      },
      "execution_count": 7,
      "outputs": []
    },
    {
      "cell_type": "markdown",
      "source": [
        "6. (11б). Створіть 2 дочірніх класи від Фігури: Трикутник та Коло, які мають атрибути, необхідні для розрахунку площин. Визначте метод get_area в кожному з них так, щоби вони розраховували площу в залежності від формули для кожного типу фігури. Створіть обʼєкт класу Трикутник та обʼєкт класу Коло. Виконайте операцію суми за допомогою оператора + між ними."
      ],
      "metadata": {
        "id": "SFcKnnv5Mo_z"
      }
    },
    {
      "cell_type": "code",
      "source": [
        "import math\n",
        "\n",
        "class Triangle(Figure):\n",
        "  def __init__(self, base, height):\n",
        "    self.base = base\n",
        "    self.height = height\n",
        "\n",
        "  def get_area(self):\n",
        "    return 0.5 * self.base * self.height\n",
        "\n",
        "class Circle(Figure):\n",
        "  def __init__(self, radius):\n",
        "    self.radius = radius\n",
        "\n",
        "  def get_area(self):\n",
        "    return math.pi * self.radius**2\n",
        "\n",
        "tr = Triangle(5, 2)\n",
        "ci = Circle(3)\n",
        "\n",
        "print(tr + ci)"
      ],
      "metadata": {
        "id": "H3GVNr69Muf3",
        "colab": {
          "base_uri": "https://localhost:8080/"
        },
        "outputId": "73885da2-56fd-4120-af93-8ac18419889b"
      },
      "execution_count": 10,
      "outputs": [
        {
          "output_type": "stream",
          "name": "stdout",
          "text": [
            "33.27433388230814\n"
          ]
        }
      ]
    },
    {
      "cell_type": "markdown",
      "source": [
        "7. (3б). Продемонструйте різницю між isinstance та issubclass."
      ],
      "metadata": {
        "id": "HCvR206YMvLK"
      }
    },
    {
      "cell_type": "code",
      "source": [
        "# check object and class\n",
        "print(isinstance(tr, Triangle))\n",
        "print(isinstance(tr, Figure))\n",
        "\n",
        "# check class and class\n",
        "print(issubclass(Triangle, Figure))\n",
        "print(issubclass(Figure, Triangle))"
      ],
      "metadata": {
        "id": "L_V1bBvDM0GN",
        "colab": {
          "base_uri": "https://localhost:8080/"
        },
        "outputId": "e5aac3bf-5cd1-4c85-9dc2-35997369550f"
      },
      "execution_count": 12,
      "outputs": [
        {
          "output_type": "stream",
          "name": "stdout",
          "text": [
            "True\n",
            "True\n",
            "True\n",
            "False\n"
          ]
        }
      ]
    },
    {
      "cell_type": "markdown",
      "source": [
        "8. (13б). Створіть клас BankAccount з приватними атрибутами balance та account_number. Реалізуйте методи поповнення та зняття коштів, забезпечивши належну інкапсуляцію. Підказка: використовуйте декоратори property та setter."
      ],
      "metadata": {
        "id": "jjsaBZ-iM0Qq"
      }
    },
    {
      "cell_type": "code",
      "source": [
        "class BankAccount:\n",
        "  def __init__(self, account_number, balance=0):\n",
        "    self.__account_number = account_number\n",
        "    self.__balance = balance\n",
        "\n",
        "  @property\n",
        "  def balance(self):\n",
        "    return self.__balance\n",
        "\n",
        "  @property\n",
        "  def account_number(self):\n",
        "    return self.__account_number\n",
        "\n",
        "  @balance.setter\n",
        "  def balance(self, new_balance):\n",
        "    if new_balance > 0:\n",
        "      self.__balance = new_balance\n",
        "      print(f\"Your balance now: {self.balance}\")\n",
        "    else:\n",
        "      print(\"Error caused by not positive value\")\n",
        "\n",
        "\n",
        "  def add_money(self, money):\n",
        "    if money > 0:\n",
        "      self.balance += money\n",
        "    else:\n",
        "      print(\"Error caused by not positive value\")\n",
        "\n",
        "  def get_money(self, money):\n",
        "    if money > 0:\n",
        "      self.balance -= money\n",
        "    else:\n",
        "      print(\"Error caused by not positive value\")\n",
        "\n",
        "\n",
        "acc = BankAccount(8282873892, 2239)\n",
        "print(f\"Initial account number: {acc.account_number}\\nInitial balance: {acc.balance}\\n\")\n",
        "acc.add_money(800)\n",
        "acc.get_money(2239)\n"
      ],
      "metadata": {
        "id": "xCvZ7lh8M7YA",
        "colab": {
          "base_uri": "https://localhost:8080/"
        },
        "outputId": "095bebbc-2429-4ffe-aca5-c21c38cb3f09"
      },
      "execution_count": 20,
      "outputs": [
        {
          "output_type": "stream",
          "name": "stdout",
          "text": [
            "Initial account number: 8282873892\n",
            "Initial balance: 2239\n",
            "\n",
            "Your balance now: 3039\n",
            "Your balance now: 800\n"
          ]
        }
      ]
    },
    {
      "cell_type": "markdown",
      "source": [
        "9. (11б). Створіть клас Library, який містить список об'єктів типу Book. Реалізуйте методи для додавання книги, видалення книги та відображення списку книг."
      ],
      "metadata": {
        "id": "tIzL2SJTM8ft"
      }
    },
    {
      "cell_type": "code",
      "source": [
        "class Book:\n",
        "  def __init__(self, book_name, author_name):\n",
        "    self.book_name = book_name\n",
        "    self.author_name = author_name\n",
        "\n",
        "class Library:\n",
        "  def __init__(self):\n",
        "    self._books = []\n",
        "\n",
        "  def add_book(self, book):\n",
        "    if (isinstance(book, Book)):\n",
        "      self._books.append(book)\n",
        "    else:\n",
        "      print(\"The second object has unexpected type\")\n",
        "\n",
        "  def delete_book(self, book):\n",
        "    if (isinstance(book, Book)):\n",
        "      for b in self._books:\n",
        "        if b == book:\n",
        "          self._books.remove(b)\n",
        "    else:\n",
        "      print(\"The second object has unexpected type\")\n",
        "\n",
        "  def show_books(self):\n",
        "    if len(self._books)>0:\n",
        "      print(\"Books in the library: \")\n",
        "      for book in self._books:\n",
        "        print(f\"Title {book.book_name}, author {book.author_name}\")\n",
        "    else:\n",
        "      print(\"There are no books in the library\")\n",
        "\n",
        "book1 = Book(\"Title1\", \"author1\")\n",
        "book12 = Book(\"Title1\", \"author2\")\n",
        "book2 = Book(\"Title2\", \"author2\")\n",
        "book23 = Book(\"Title2\", \"author3\")\n",
        "book3 = Book(\"Title3\", \"author3\")\n",
        "\n",
        "books = [book1, book12, book2, book23, book3]\n",
        "\n",
        "lib = Library()\n",
        "lib.show_books()\n",
        "\n",
        "for book in books:\n",
        "  lib.add_book(book)\n",
        "\n",
        "lib.show_books()\n",
        "\n",
        "lib.delete_book(book12)\n",
        "lib.delete_book(book23)\n",
        "\n",
        "lib.show_books()\n",
        "\n"
      ],
      "metadata": {
        "id": "HWxfJKLtNAUZ",
        "colab": {
          "base_uri": "https://localhost:8080/"
        },
        "outputId": "32c321d2-044e-4bb8-fa80-5c6f5c11afe1"
      },
      "execution_count": 26,
      "outputs": [
        {
          "output_type": "stream",
          "name": "stdout",
          "text": [
            "There are no books in the library\n",
            "Books in the library: \n",
            "Title Title1, author author1\n",
            "Title Title1, author author2\n",
            "Title Title2, author author2\n",
            "Title Title2, author author3\n",
            "Title Title3, author author3\n",
            "Books in the library: \n",
            "Title Title1, author author1\n",
            "Title Title2, author author2\n",
            "Title Title3, author author3\n"
          ]
        }
      ]
    },
    {
      "cell_type": "markdown",
      "source": [
        "10. (13б). Створіть клас Person з атрибутами name та age. Створіть ще один клас Employee з такими атрибутами, як department та salary. Створіть клас Manager, який успадковує обидва класи Person та Employee. Продемонструйте використання множинної спадковості, створивши обʼєкт класу Manager та отримавши mro для цього класу."
      ],
      "metadata": {
        "id": "lmV8pAwwNIqu"
      }
    },
    {
      "cell_type": "code",
      "source": [
        "class Person:\n",
        "  def __init__(self, name, age):\n",
        "    self.name = name\n",
        "    self.age = age\n",
        "\n",
        "class Employee:\n",
        "  def __init__(self, department, salary):\n",
        "    self.department = department\n",
        "    self.salary = salary\n",
        "\n",
        "class Manager(Person, Employee):\n",
        "  def __init__(self, name, age, department, salary):\n",
        "        Person.__init__(self, name, age)\n",
        "        Employee.__init__(self, department, salary)\n",
        "\n",
        "man = Manager(\"Mark\", 20, \"Kanada\", 7671818)\n",
        "\n",
        "print(man.name, man.age, man.department, man.salary)\n",
        "\n",
        "print(Manager.mro())"
      ],
      "metadata": {
        "id": "R49grKlWNPeN",
        "colab": {
          "base_uri": "https://localhost:8080/"
        },
        "outputId": "8066a3c2-e27f-4dc1-ccfd-2c645693d385"
      },
      "execution_count": 31,
      "outputs": [
        {
          "output_type": "stream",
          "name": "stdout",
          "text": [
            "Mark 20 Kanada 7671818\n",
            "[<class '__main__.Manager'>, <class '__main__.Person'>, <class '__main__.Employee'>, <class 'object'>]\n"
          ]
        }
      ]
    },
    {
      "cell_type": "markdown",
      "source": [
        "# II. Iterator"
      ],
      "metadata": {
        "id": "dIJyUiNBFG8G"
      }
    },
    {
      "cell_type": "markdown",
      "source": [
        "11. (4б). Визначте рядок(str) з 4ма різними за значенням символами. Створіть ітератор на основі цього рядка. Викличте 5 разів функцію next на ітераторі, 4ри перших з них огорніть у ф-цію print()."
      ],
      "metadata": {
        "id": "13vsm0NyKIzL"
      }
    },
    {
      "cell_type": "code",
      "source": [
        "row = \"abcd\"\n",
        "\n",
        "i = iter(row)\n",
        "\n",
        "for j in range(5):\n",
        "  value = next(i)\n",
        "  if j < 4:\n",
        "    print(value)"
      ],
      "metadata": {
        "id": "81ntabAkKuz-",
        "colab": {
          "base_uri": "https://localhost:8080/",
          "height": 275
        },
        "outputId": "11c2331f-11f8-491d-98a5-5463b4a7be0c"
      },
      "execution_count": 37,
      "outputs": [
        {
          "output_type": "stream",
          "name": "stdout",
          "text": [
            "a\n",
            "b\n",
            "c\n",
            "d\n"
          ]
        },
        {
          "output_type": "error",
          "ename": "StopIteration",
          "evalue": "",
          "traceback": [
            "\u001b[0;31m---------------------------------------------------------------------------\u001b[0m",
            "\u001b[0;31mStopIteration\u001b[0m                             Traceback (most recent call last)",
            "\u001b[0;32m<ipython-input-37-c5d724041e7d>\u001b[0m in \u001b[0;36m<cell line: 5>\u001b[0;34m()\u001b[0m\n\u001b[1;32m      4\u001b[0m \u001b[0;34m\u001b[0m\u001b[0m\n\u001b[1;32m      5\u001b[0m \u001b[0;32mfor\u001b[0m \u001b[0mj\u001b[0m \u001b[0;32min\u001b[0m \u001b[0mrange\u001b[0m\u001b[0;34m(\u001b[0m\u001b[0;36m5\u001b[0m\u001b[0;34m)\u001b[0m\u001b[0;34m:\u001b[0m\u001b[0;34m\u001b[0m\u001b[0;34m\u001b[0m\u001b[0m\n\u001b[0;32m----> 6\u001b[0;31m   \u001b[0mvalue\u001b[0m \u001b[0;34m=\u001b[0m \u001b[0mnext\u001b[0m\u001b[0;34m(\u001b[0m\u001b[0mi\u001b[0m\u001b[0;34m)\u001b[0m\u001b[0;34m\u001b[0m\u001b[0;34m\u001b[0m\u001b[0m\n\u001b[0m\u001b[1;32m      7\u001b[0m   \u001b[0;32mif\u001b[0m \u001b[0mj\u001b[0m \u001b[0;34m<\u001b[0m \u001b[0;36m4\u001b[0m\u001b[0;34m:\u001b[0m\u001b[0;34m\u001b[0m\u001b[0;34m\u001b[0m\u001b[0m\n\u001b[1;32m      8\u001b[0m     \u001b[0mprint\u001b[0m\u001b[0;34m(\u001b[0m\u001b[0mvalue\u001b[0m\u001b[0;34m)\u001b[0m\u001b[0;34m\u001b[0m\u001b[0;34m\u001b[0m\u001b[0m\n",
            "\u001b[0;31mStopIteration\u001b[0m: "
          ]
        }
      ]
    },
    {
      "cell_type": "markdown",
      "source": [
        "А що якщо викликати цю ж функцію на рядку?"
      ],
      "metadata": {
        "id": "aekWHGXOLRsO"
      }
    },
    {
      "cell_type": "code",
      "source": [
        "row = \"abcd\"\n",
        "\n",
        "for j in range(5):\n",
        "  value = next(row)\n",
        "  if j < 4:\n",
        "    print(value)"
      ],
      "metadata": {
        "id": "mxATGsErLV1i",
        "colab": {
          "base_uri": "https://localhost:8080/",
          "height": 207
        },
        "outputId": "2d44c915-d0fc-405b-b9e9-09f15a5524c4"
      },
      "execution_count": 38,
      "outputs": [
        {
          "output_type": "error",
          "ename": "TypeError",
          "evalue": "'str' object is not an iterator",
          "traceback": [
            "\u001b[0;31m---------------------------------------------------------------------------\u001b[0m",
            "\u001b[0;31mTypeError\u001b[0m                                 Traceback (most recent call last)",
            "\u001b[0;32m<ipython-input-38-e836883c90b7>\u001b[0m in \u001b[0;36m<cell line: 3>\u001b[0;34m()\u001b[0m\n\u001b[1;32m      2\u001b[0m \u001b[0;34m\u001b[0m\u001b[0m\n\u001b[1;32m      3\u001b[0m \u001b[0;32mfor\u001b[0m \u001b[0mj\u001b[0m \u001b[0;32min\u001b[0m \u001b[0mrange\u001b[0m\u001b[0;34m(\u001b[0m\u001b[0;36m5\u001b[0m\u001b[0;34m)\u001b[0m\u001b[0;34m:\u001b[0m\u001b[0;34m\u001b[0m\u001b[0;34m\u001b[0m\u001b[0m\n\u001b[0;32m----> 4\u001b[0;31m   \u001b[0mvalue\u001b[0m \u001b[0;34m=\u001b[0m \u001b[0mnext\u001b[0m\u001b[0;34m(\u001b[0m\u001b[0mrow\u001b[0m\u001b[0;34m)\u001b[0m\u001b[0;34m\u001b[0m\u001b[0;34m\u001b[0m\u001b[0m\n\u001b[0m\u001b[1;32m      5\u001b[0m   \u001b[0;32mif\u001b[0m \u001b[0mj\u001b[0m \u001b[0;34m<\u001b[0m \u001b[0;36m4\u001b[0m\u001b[0;34m:\u001b[0m\u001b[0;34m\u001b[0m\u001b[0;34m\u001b[0m\u001b[0m\n\u001b[1;32m      6\u001b[0m     \u001b[0mprint\u001b[0m\u001b[0;34m(\u001b[0m\u001b[0mvalue\u001b[0m\u001b[0;34m)\u001b[0m\u001b[0;34m\u001b[0m\u001b[0;34m\u001b[0m\u001b[0m\n",
            "\u001b[0;31mTypeError\u001b[0m: 'str' object is not an iterator"
          ]
        }
      ]
    },
    {
      "cell_type": "markdown",
      "source": [
        " 12. (5б). Опишіть своїми словами в одному реченні, як ви розумієте різницю між ітерабельними обʼєктами та ітераторами (можна на прикладі)."
      ],
      "metadata": {
        "id": "XwtMEopwJ4pH"
      }
    },
    {
      "cell_type": "markdown",
      "source": [
        "Ітерабельний обʼєкт - обʼєкт, елементи якого можна перебрати за допомогою циклу або з використанням ітератора(наприклад, стрічка чи список)\n",
        "\n",
        "Ітератор - обʼєкт, який за допомогою функції next може отримувати наступний обʼєкт, запамʼятовуючи свої стани\n"
      ],
      "metadata": {
        "id": "-sHrODc3KFn8"
      }
    },
    {
      "cell_type": "markdown",
      "source": [
        "13. (11б). Створіть клас, що має визначений Iterator Protocol та при кожному виклику next повертає літери англійської абетки, поки вони не вичерпаються."
      ],
      "metadata": {
        "id": "E9qJWmNbK8Gl"
      }
    },
    {
      "cell_type": "code",
      "source": [
        "class Alphabeth:\n",
        "  def __init__(self):\n",
        "    self._letter = ord('a')\n",
        "\n",
        "  def __iter__(self):\n",
        "    return self\n",
        "\n",
        "  def __next__(self):\n",
        "    if self._letter <= ord('z'):\n",
        "      letter = chr(self._letter)\n",
        "      self._letter += 1\n",
        "      return letter\n",
        "    else:\n",
        "        raise StopIteration\n",
        "\n",
        "alphabeth = Alphabeth()\n",
        "\n",
        "for _ in range(26):\n",
        "  print(next(alphabeth))"
      ],
      "metadata": {
        "id": "cqx-g_RsLo6I",
        "colab": {
          "base_uri": "https://localhost:8080/"
        },
        "outputId": "a416ccd8-63d0-4a89-fc22-e0a15424064c"
      },
      "execution_count": 39,
      "outputs": [
        {
          "output_type": "stream",
          "name": "stdout",
          "text": [
            "a\n",
            "b\n",
            "c\n",
            "d\n",
            "e\n",
            "f\n",
            "g\n",
            "h\n",
            "i\n",
            "j\n",
            "k\n",
            "l\n",
            "m\n",
            "n\n",
            "o\n",
            "p\n",
            "q\n",
            "r\n",
            "s\n",
            "t\n",
            "u\n",
            "v\n",
            "w\n",
            "x\n",
            "y\n",
            "z\n"
          ]
        }
      ]
    },
    {
      "cell_type": "markdown",
      "source": [
        "# Вітаю! Ви велика(ий) молодець, що впоралась(вся). Похваліть себе та побалуйте чимось приємним. Я Вами пишаюся."
      ],
      "metadata": {
        "id": "Z3E3S_s1Fv7-"
      }
    }
  ]
}